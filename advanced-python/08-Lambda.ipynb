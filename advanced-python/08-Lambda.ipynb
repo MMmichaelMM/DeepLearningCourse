{
  "cells": [
    {
      "cell_type": "markdown",
      "metadata": {
        "id": "view-in-github",
        "colab_type": "text"
      },
      "source": [
        "<a href=\"https://colab.research.google.com/github/MMmichaelMM/DeepLearningCourse/blob/main/advanced-python/08-Lambda.ipynb\" target=\"_parent\"><img src=\"https://colab.research.google.com/assets/colab-badge.svg\" alt=\"Open In Colab\"/></a>"
      ]
    },
    {
      "cell_type": "markdown",
      "metadata": {
        "id": "m3BZnG8mQO8A"
      },
      "source": [
        "# Lambda functions\n",
        "A lambda function is a small (one line) anonymous function that is defined without a name. A lambda function can take any number of arguments, but can only have one expression. While normal functions are defined using the def keyword, in Python anonymous functions are defined using the lambda keyword.\n",
        "\n",
        "`lambda arguments: expression`  \n",
        "\n",
        "Lambda functions are used when a simple function is used only once or for a short period in your code. It's most common use is as an argument to higher-order functions (functions that takes in other functions as arguments). They are also used along with built-in functions like  `map()`, `filter()`, `reduce()`."
      ]
    },
    {
      "cell_type": "code",
      "execution_count": null,
      "metadata": {
        "id": "q7_AUHqxQO8C",
        "outputId": "8447edf4-3173-468c-ca26-af59af9080b0"
      },
      "outputs": [
        {
          "name": "stdout",
          "output_type": "stream",
          "text": [
            "15 110\n",
            "20 35\n"
          ]
        }
      ],
      "source": [
        "# a lambda function that adds 10 to the input argument\n",
        "f = lambda x: x+10\n",
        "val1 = f(5)\n",
        "val2 = f(100)\n",
        "print(val1, val2)\n",
        "\n",
        "# a lambda function that multiplies two input arguments and returns the result\n",
        "f = lambda x,y: x*y\n",
        "val3 = f(2,10)\n",
        "val4 = f(7,5)\n",
        "print(val3, val4)"
      ]
    },
    {
      "cell_type": "markdown",
      "metadata": {
        "id": "HBN_a2J1QO8D"
      },
      "source": [
        "## Usage example: Lamdba inside another function\n",
        "Return a customized lambda function from another function and create different function variations depending on your needs."
      ]
    },
    {
      "cell_type": "code",
      "execution_count": null,
      "metadata": {
        "id": "jCXNLjO4QO8D",
        "outputId": "99abaa2a-ea72-4db0-cfca-33209575380f"
      },
      "outputs": [
        {
          "name": "stdout",
          "output_type": "stream",
          "text": [
            "12\n",
            "18\n"
          ]
        }
      ],
      "source": [
        "def myfunc(n):\n",
        "    return lambda x: x * n\n",
        "\n",
        "doubler = myfunc(2)\n",
        "print(doubler(6))\n",
        "\n",
        "tripler = myfunc(3)\n",
        "print(tripler(6))"
      ]
    },
    {
      "cell_type": "markdown",
      "metadata": {
        "id": "BCZoXIQfQO8D"
      },
      "source": [
        "## Custom sorting using a lambda function as key parameter\n",
        "The key function transforms each element before sorting."
      ]
    },
    {
      "cell_type": "code",
      "execution_count": null,
      "metadata": {
        "id": "Vjm6xxB9QO8E",
        "outputId": "15195ba3-734f-4e25-f44c-3fb719b7e876"
      },
      "outputs": [
        {
          "name": "stdout",
          "output_type": "stream",
          "text": [
            "[(5, -3), (4, 1), (10, 2), (1, 9)]\n",
            "[-1, 1, -2, 2, -3, 3, -4, 4]\n"
          ]
        }
      ],
      "source": [
        "points2D = [(1, 9), (4, 1), (5, -3), (10, 2)]\n",
        "sorted_by_y = sorted(points2D, key= lambda x: x[1])\n",
        "print(sorted_by_y)\n",
        "\n",
        "mylist = [- 1, -4, -2, -3, 1, 2, 3, 4]\n",
        "sorted_by_abs = sorted(mylist, key= lambda x: abs(x))\n",
        "print(sorted_by_abs)"
      ]
    },
    {
      "cell_type": "markdown",
      "metadata": {
        "id": "Qfo3CrNxQO8E"
      },
      "source": [
        "## Use lambda for map function\n",
        "`map(func, seq)`, transforms each element with the function."
      ]
    },
    {
      "cell_type": "code",
      "execution_count": null,
      "metadata": {
        "id": "186nGDMWQO8E",
        "outputId": "77edc20b-7b0e-4e2c-932f-24c7799c45f8"
      },
      "outputs": [
        {
          "name": "stdout",
          "output_type": "stream",
          "text": [
            "[2, 4, 6, 8, 10, 12]\n",
            "[2, 4, 6, 8, 10, 12]\n"
          ]
        }
      ],
      "source": [
        "a  = [1, 2, 3, 4, 5, 6]\n",
        "b = list(map(lambda x: x * 2 , a))\n",
        "\n",
        "# However, try to prefer list comprehension\n",
        "# Use map if you have an already defined function\n",
        "c = [x*2 for x in a]\n",
        "print(b)\n",
        "print(c)"
      ]
    },
    {
      "cell_type": "markdown",
      "metadata": {
        "id": "6WUl6_KdQO8E"
      },
      "source": [
        "## Use lambda for filter function\n",
        "`filter(func, seq)`, returns all elements for which func evaluates to True."
      ]
    },
    {
      "cell_type": "code",
      "execution_count": null,
      "metadata": {
        "id": "fk4jjuw3QO8E",
        "outputId": "31a7e38e-df91-4688-df40-f57281724160"
      },
      "outputs": [
        {
          "name": "stdout",
          "output_type": "stream",
          "text": [
            "[2, 4, 6, 8]\n",
            "[2, 4, 6, 8]\n"
          ]
        }
      ],
      "source": [
        "a = [1, 2, 3, 4, 5, 6, 7, 8]\n",
        "b = list(filter(lambda x: (x%2 == 0) , a))\n",
        "\n",
        "# However, the same can be achieved with list comprehension\n",
        "c = [x for x in a if x%2 == 0]\n",
        "print(b)\n",
        "print(c)"
      ]
    },
    {
      "cell_type": "markdown",
      "metadata": {
        "id": "OkTP9QsbQO8E"
      },
      "source": [
        "# reduce\n",
        "`reduce(func, seq)`, repeatedly applies the func to the elements and returns a single value.  \n",
        "`func` takes 2 arguments."
      ]
    },
    {
      "cell_type": "code",
      "execution_count": null,
      "metadata": {
        "id": "1o6xBaF0QO8F",
        "outputId": "f160c8ae-6d61-4cfa-908e-9d80638a6f1b"
      },
      "outputs": [
        {
          "name": "stdout",
          "output_type": "stream",
          "text": [
            "24\n",
            "10\n"
          ]
        }
      ],
      "source": [
        "from functools import reduce\n",
        "a = [1, 2, 3, 4]\n",
        "product_a = reduce(lambda x, y: x*y, a)\n",
        "print(product_a)\n",
        "sum_a = reduce(lambda x, y: x+y, a)\n",
        "print(sum_a)"
      ]
    }
  ],
  "metadata": {
    "kernelspec": {
      "display_name": "Python [conda env:pythonengineer_env]",
      "language": "python",
      "name": "conda-env-pythonengineer_env-py"
    },
    "language_info": {
      "codemirror_mode": {
        "name": "ipython",
        "version": 3
      },
      "file_extension": ".py",
      "mimetype": "text/x-python",
      "name": "python",
      "nbconvert_exporter": "python",
      "pygments_lexer": "ipython3",
      "version": "3.7.3"
    },
    "colab": {
      "provenance": [],
      "include_colab_link": true
    }
  },
  "nbformat": 4,
  "nbformat_minor": 0
}